{
 "cells": [
  {
   "cell_type": "code",
   "execution_count": null,
   "metadata": {},
   "outputs": [],
   "source": [
    "#음료수 얼려먹기\n",
    "n, m = map(int, imput().split())\n",
    "\n",
    "graph = []\n",
    "for i in range(n):\n",
    "    graph.append(list(map(int, input())))\n",
    "    \n",
    "def dfs(x, y):\n",
    "    if x <= -1 or x >= n or y <= -1 or y >= m:\n",
    "        return False\n",
    "    if graph[x][y] == 0:\n",
    "        graph[x][y] = 1\n",
    "        dfs(x-1, y)\n",
    "        dfs(x, y-1)\n",
    "        dfs(x+1, y)\n",
    "        dfs(x, y+1)\n",
    "        return True\n",
    "    return False\n",
    "\n",
    "result = 0\n",
    "for i in range(n):\n",
    "    for j in range(m):\n",
    "        if dfs(i, j) == True:\n",
    "            result += 1\n",
    "            \n",
    "print(result)"
   ]
  },
  {
   "cell_type": "code",
   "execution_count": null,
   "metadata": {},
   "outputs": [],
   "source": [
    "from collections import deque\n",
    "\n",
    "n, m = map(int, imput().split())\n",
    "\n",
    "graph=[]\n",
    "for i in range(n):\n",
    "    graph.append(list(map(int, input())))\n",
    "    \n",
    "dx = [-1, 1, 0, 0]\n",
    "dy = [0, 0, -1, 1]\n",
    "\n",
    "def bfs(x, y):\n",
    "    queue = deque()\n",
    "    queue.append((x,y))\n",
    "    while queue:\n",
    "        x, y = queue.popleft()\n",
    "        for i in range(4):\n",
    "            nx = x + dx[i]\n",
    "            ny = y + dy[i]\n",
    "            if nx < 0 or ny < 0 or nx >= n or ny >= m:\n",
    "                continue\n",
    "            if graph[nx][ny] == 0:\n",
    "                continue\n",
    "            if graph[nx][ny] == 1:\n",
    "                graph[nx][ny] = graph[x][y] + 1\n",
    "                queue.append((nx, ny))\n",
    "                \n",
    "    return graph[n-1][m-1]\n",
    "\n",
    "print(bfs(0,0))"
   ]
  }
 ],
 "metadata": {
  "kernelspec": {
   "display_name": "Python 3",
   "language": "python",
   "name": "python3"
  },
  "language_info": {
   "codemirror_mode": {
    "name": "ipython",
    "version": 3
   },
   "file_extension": ".py",
   "mimetype": "text/x-python",
   "name": "python",
   "nbconvert_exporter": "python",
   "pygments_lexer": "ipython3",
   "version": "3.8.5"
  }
 },
 "nbformat": 4,
 "nbformat_minor": 4
}
