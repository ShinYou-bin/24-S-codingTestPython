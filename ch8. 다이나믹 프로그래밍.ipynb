{
 "cells": [
  {
   "cell_type": "code",
   "execution_count": null,
   "metadata": {},
   "outputs": [],
   "source": [
    "# 실전문제 2 - 1로 만들기\n",
    "# 책 답안\n",
    "x = int(input())\n",
    "\n",
    "d = [0]*30001\n",
    "\n",
    "for i in range(2, x+1):\n",
    "    d[i] = d[i-1] + 1\n",
    "    if i % 2 == 0:\n",
    "        d[i] = min(d[i], d[i//2]+1)\n",
    "    if i % 3 == 0:\n",
    "        d[i] = min(d[i], d[i//3]+1)\n",
    "    if i % 5 == 0:\n",
    "        d[i] = min(d[i], d[i//5]+1)\n",
    "\n",
    "print(d[x])"
   ]
  },
  {
   "cell_type": "code",
   "execution_count": null,
   "metadata": {},
   "outputs": [],
   "source": [
    "# 실전문제3 - 개미전사\n",
    "#책답안\n",
    "n = int(input())\n",
    "array = list(map(int, input().split()))\n",
    "\n",
    "d = [0]*100\n",
    "\n",
    "d[0] = array[0]\n",
    "d[1] = max(array[0], array[1])\n",
    "for i in range(2, n):\n",
    "    d[i] = max(d[i-1], d[i-2]+array[i])\n",
    "\n",
    "print(d[n-1])"
   ]
  },
  {
   "cell_type": "code",
   "execution_count": 3,
   "metadata": {},
   "outputs": [
    {
     "name": "stdout",
     "output_type": "stream",
     "text": [
      "5\n"
     ]
    }
   ],
   "source": [
    "# 실전문제 4 - 바닥공사\n",
    "n = int(input())\n",
    "\n",
    "d = [0]*1000\n",
    "\n",
    "d[1] = 1\n",
    "\n",
    "for i in range(2, n+1):\n",
    "    if i % 2 == 0:\n",
    "        d[i] = 3**(i//2)\n",
    "    else:\n",
    "        d[i] = 2*(d[i-1]) - 1\n",
    "\n",
    "print(d[i])"
   ]
  },
  {
   "cell_type": "code",
   "execution_count": null,
   "metadata": {},
   "outputs": [],
   "source": [
    "# 실전문제 4 - 바닥공사\n",
    "# 책 답안\n",
    "d[i] = (d[i-1]+2*d[i-2])"
   ]
  },
  {
   "cell_type": "code",
   "execution_count": null,
   "metadata": {},
   "outputs": [],
   "source": [
    "# 실전문제 5 - 효율적인 화폐 구성\n",
    "# 지피티\n",
    "def min_coins(coins, amount):\n",
    "    # DP 테이블 초기화: 기본적으로 amount + 1로 초기화 (무한대를 의미)\n",
    "    dp = [amount + 1] * (amount + 1)\n",
    "    dp[0] = 0  # 0원을 만들기 위한 최소 화폐 개수는 0개\n",
    "    \n",
    "    # 각 금액 i에 대해 최소 화폐 개수를 계산\n",
    "    for i in range(1, amount + 1):\n",
    "        for coin in coins:\n",
    "            if i >= coin:\n",
    "                dp[i] = min(dp[i], dp[i - coin] + 1)\n",
    "    \n",
    "    # dp[amount]가 amount + 1이라면, 주어진 금액을 만들 수 없다는 의미\n",
    "    return dp[amount] if dp[amount] != amount + 1 else -1\n",
    "\n",
    "# 사용할 수 있는 화폐 단위와 만들고자 하는 금액 예시\n",
    "coins = [1, 2, 5]\n",
    "amount = 11\n",
    "\n",
    "# 함수 호출 및 결과 출력\n",
    "result = min_coins(coins, amount)\n",
    "print(f\"금액 {amount}을 만들기 위한 최소 화폐 개수: {result}\")\n"
   ]
  }
 ],
 "metadata": {
  "kernelspec": {
   "display_name": "base",
   "language": "python",
   "name": "python3"
  },
  "language_info": {
   "codemirror_mode": {
    "name": "ipython",
    "version": 3
   },
   "file_extension": ".py",
   "mimetype": "text/x-python",
   "name": "python",
   "nbconvert_exporter": "python",
   "pygments_lexer": "ipython3",
   "version": "3.8.5"
  }
 },
 "nbformat": 4,
 "nbformat_minor": 2
}
