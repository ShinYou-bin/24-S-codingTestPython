{
 "cells": [
  {
   "cell_type": "code",
   "execution_count": 3,
   "metadata": {},
   "outputs": [
    {
     "name": "stdout",
     "output_type": "stream",
     "text": [
      "no yes yes "
     ]
    }
   ],
   "source": [
    "#실전문제2 - 부품찾기 \n",
    "n = int(input())\n",
    "stock = list(map(int, input().split()))\n",
    "\n",
    "m = int(input())\n",
    "num = list(map(int, input().split()))\n",
    "\n",
    "array = []\n",
    "\n",
    "def find(array, target, start, end):\n",
    "    if start > end:\n",
    "        return None\n",
    "    \n",
    "    mid = (start+end) // 2\n",
    "    if target == array[mid]:\n",
    "        return True\n",
    "    elif target < array[mid]:\n",
    "        return find(array, target, start, mid -1)\n",
    "    else:\n",
    "        return find(array, target, mid+1, end)\n",
    "    \n",
    "\n",
    "for i in num:\n",
    "    result = find(stock, i, 0, n-1)\n",
    "    if result == None:\n",
    "        array.append('no')\n",
    "    else: array.append('yes')\n",
    "\n",
    "for i in array:\n",
    "    print(i, end=' ')"
   ]
  },
  {
   "cell_type": "code",
   "execution_count": null,
   "metadata": {},
   "outputs": [],
   "source": [
    "# 실전문제2 - 부품찾기\n",
    "# 책답안(계수 정렬)\n",
    "\n",
    "n = int(input())\n",
    "array = [0]*1000001\n",
    "\n",
    "for i in input().split():\n",
    "    array[int(i)] = 1\n",
    "\n",
    "m = int(input())\n",
    "num = list(map(int, input().split()))\n",
    "\n",
    "for i in num:\n",
    "    if array[i] == 1:\n",
    "        print('yes', end=' ')\n",
    "    else:\n",
    "        print('no', end=' ')"
   ]
  },
  {
   "cell_type": "code",
   "execution_count": null,
   "metadata": {},
   "outputs": [],
   "source": [
    "# 실전문제2 - 부품찾기\n",
    "# 책답안(집합 자료형 이용)\n",
    "\n",
    "n = int(input())\n",
    "stock = set(map(int, input().split()))\n",
    "\n",
    "m = int(input())\n",
    "num = list(map(int, input().split()))\n",
    "\n",
    "for i in num:\n",
    "    if array[i] == 1:\n",
    "        print('yes', end=' ')\n",
    "    else:\n",
    "        print('no', end=' ')"
   ]
  },
  {
   "cell_type": "code",
   "execution_count": 6,
   "metadata": {},
   "outputs": [
    {
     "name": "stdout",
     "output_type": "stream",
     "text": [
      "15\n"
     ]
    }
   ],
   "source": [
    "# 실전문제3 - 떡볶이 떡 만들기\n",
    "n, m = map(int, input().split())\n",
    "\n",
    "cakes = list(map(int, input().split()))\n",
    "    \n",
    "result = 0\n",
    "while True:\n",
    "    cuts = []\n",
    "    for i in cakes:\n",
    "        x = i - result\n",
    "        if x < 0:\n",
    "            x = 0\n",
    "        cuts.append(x)\n",
    "    if sum(cuts) == m:\n",
    "        break\n",
    "    result += 1\n",
    "\n",
    "print(result)"
   ]
  },
  {
   "cell_type": "code",
   "execution_count": null,
   "metadata": {},
   "outputs": [],
   "source": [
    "# 실전문제3 - 떡볶이 떡 만들기\n",
    "# 책 답안 - 이진 탐색\n",
    "\n",
    "n, m = map(int, input().split())\n",
    "\n",
    "cakes = list(map(int, input().split()))\n",
    "\n",
    "start = 0\n",
    "end = max(cakes)\n",
    "\n",
    "result = 0\n",
    "while(start <= end):\n",
    "    total = 0\n",
    "    mid = (start+end) //2\n",
    "    # 잘랐을 때의 떡의 양 계산\n",
    "    for x in cakes:\n",
    "        if x > mid:\n",
    "            total += x - mid\n",
    "    # 떡의 양 부족한 경우 더 많이 자르기 (왼쪽 탐색)\n",
    "    if total < m:\n",
    "        end = mid -1\n",
    "    # 떡의 양 충분한 경우 덜 자르기(오른쪽 탐색 )\n",
    "    else:\n",
    "        result = mid\n",
    "        start = mid + 1\n",
    "print(result)\n"
   ]
  }
 ],
 "metadata": {
  "kernelspec": {
   "display_name": "base",
   "language": "python",
   "name": "python3"
  },
  "language_info": {
   "codemirror_mode": {
    "name": "ipython",
    "version": 3
   },
   "file_extension": ".py",
   "mimetype": "text/x-python",
   "name": "python",
   "nbconvert_exporter": "python",
   "pygments_lexer": "ipython3",
   "version": "3.8.5"
  }
 },
 "nbformat": 4,
 "nbformat_minor": 2
}
