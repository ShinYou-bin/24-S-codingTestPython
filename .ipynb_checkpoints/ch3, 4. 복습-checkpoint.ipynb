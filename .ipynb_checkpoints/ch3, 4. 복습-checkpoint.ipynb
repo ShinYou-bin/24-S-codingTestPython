{
 "cells": [
  {
   "cell_type": "code",
   "execution_count": 1,
   "metadata": {},
   "outputs": [
    {
     "name": "stdout",
     "output_type": "stream",
     "text": [
      "2 4\n",
      "7 3 1 8\n",
      "3 3 3 4\n",
      "3\n"
     ]
    }
   ],
   "source": [
    "#숫자카드게임\n",
    "n, m = map(int,input().split())\n",
    "result = 0\n",
    "\n",
    "min_values = []\n",
    "\n",
    "while True:\n",
    "    for i in range(n):\n",
    "        nums = map(int, input().split())\n",
    "        min_values += [min(nums)]\n",
    "    result = max(min_values)\n",
    "    break\n",
    "\n",
    "print(result)"
   ]
  },
  {
   "cell_type": "code",
   "execution_count": 20,
   "metadata": {},
   "outputs": [
    {
     "name": "stdout",
     "output_type": "stream",
     "text": [
      "5 8 3\n",
      "2 4 5 4 6\n",
      "46\n"
     ]
    }
   ],
   "source": [
    "#큰수의법칙\n",
    "n, m, k = map(int, input().split())\n",
    "result = 0\n",
    "\n",
    "nums = sorted(list(map(int, input().split())))\n",
    "\n",
    "first = nums[n-1]\n",
    "second = nums[n-2]\n",
    "\n",
    "result = first*k*(m//k) + second*(m%k)\n",
    "\n",
    "print(result)"
   ]
  },
  {
   "cell_type": "code",
   "execution_count": 21,
   "metadata": {},
   "outputs": [
    {
     "name": "stdout",
     "output_type": "stream",
     "text": [
      "25 5\n",
      "2\n"
     ]
    }
   ],
   "source": [
    "#1이 될때까지\n",
    "n, k = map(int, input().split())\n",
    "count = 0\n",
    "\n",
    "while n != 1:\n",
    "    if n % k != 0:\n",
    "        n -= 1\n",
    "        count += 1\n",
    "        continue\n",
    "    n = n//k\n",
    "    count += 1\n",
    "print(count)"
   ]
  },
  {
   "cell_type": "code",
   "execution_count": 25,
   "metadata": {},
   "outputs": [
    {
     "name": "stdout",
     "output_type": "stream",
     "text": [
      "a1\n",
      "2\n"
     ]
    }
   ],
   "source": [
    "#왕실의 나이트\n",
    "start = input()\n",
    "x = ord(start[:1]) - ord('a') + 1\n",
    "y = int(start[1])\n",
    "\n",
    "moves = [(1,2), (1,-2), (-1,2), (-1,-2), (2,1),(2,-1), (-2,1), (-2,-1)]\n",
    "count = 0\n",
    "\n",
    "for i in range(len(moves)):\n",
    "    nx = x + moves[i][0]\n",
    "    ny = y + moves[i][1]\n",
    "    \n",
    "    if nx <= 0 or ny <=0 or nx > 8 or ny > 8:\n",
    "        continue\n",
    "    \n",
    "    count += 1\n",
    "\n",
    "print(count)"
   ]
  },
  {
   "cell_type": "code",
   "execution_count": 27,
   "metadata": {},
   "outputs": [
    {
     "name": "stdout",
     "output_type": "stream",
     "text": [
      "4 4 \n",
      "1 1 0\n",
      "1 1 1 1 \n",
      "1 0 0 1\n",
      "1 1 0 1\n",
      "1 1 1 1\n",
      "3\n"
     ]
    }
   ],
   "source": [
    "#게임 개발\n",
    "#re:\n",
    "n, m = map(int, input().split())\n",
    "d = [[0] * m for _ in range(n)]\n",
    "x, y, direction = map(int, input().split())\n",
    "d[x][y] = 1\n",
    "\n",
    "array = []\n",
    "for i in range(n):\n",
    "    array.append(list(map(int, input().split())))\n",
    "    \n",
    "dx = [-1, 0, 1, 0]\n",
    "dy = [0, 1, 0, -1]\n",
    "\n",
    "def turn_left():\n",
    "    global direction\n",
    "    direction -= 1\n",
    "    if direction == -1:\n",
    "        direction = 3\n",
    "\n",
    "count = 1\n",
    "turn_time = 0\n",
    "while True:\n",
    "    turn_left()\n",
    "    nx = x + dx[direction]\n",
    "    ny = y + dy[direction]\n",
    "    \n",
    "    if d[nx][ny] == 0 and array[nx][ny] == 0:\n",
    "        d[nx][ny] = 1\n",
    "        x = nx\n",
    "        y = ny\n",
    "        count += 1\n",
    "        turn_time = 0\n",
    "        continue\n",
    "    else:\n",
    "        turn_time += 1\n",
    "    if turn_time == 3:\n",
    "        nx = x - dx[direction]\n",
    "        ny = y- dy[direction]\n",
    "        if array[nx][ny] == 0:\n",
    "            x = nx\n",
    "            y = ny\n",
    "        else:\n",
    "            break\n",
    "        turn_time = 0\n",
    "        \n",
    "print(count) "
   ]
  }
 ],
 "metadata": {
  "kernelspec": {
   "display_name": "Python 3",
   "language": "python",
   "name": "python3"
  },
  "language_info": {
   "codemirror_mode": {
    "name": "ipython",
    "version": 3
   },
   "file_extension": ".py",
   "mimetype": "text/x-python",
   "name": "python",
   "nbconvert_exporter": "python",
   "pygments_lexer": "ipython3",
   "version": "3.8.5"
  }
 },
 "nbformat": 4,
 "nbformat_minor": 4
}
