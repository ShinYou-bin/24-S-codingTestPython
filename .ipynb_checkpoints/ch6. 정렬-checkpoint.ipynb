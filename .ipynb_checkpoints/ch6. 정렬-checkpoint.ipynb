{
 "cells": [
  {
   "cell_type": "code",
   "execution_count": 34,
   "metadata": {},
   "outputs": [
    {
     "name": "stdout",
     "output_type": "stream",
     "text": [
      "2\n",
      "1\n",
      "5\n",
      "1 5 "
     ]
    }
   ],
   "source": [
    "#실전문제2 - 위에서 아래로\n",
    "n = int(input())\n",
    "array = []\n",
    "\n",
    "for i in range(n):\n",
    "    array.append(int(input()))\n",
    "    \n",
    "array.sort()\n",
    "\n",
    "for i in array:\n",
    "    print(i, end = ' ')\n"
   ]
  },
  {
   "cell_type": "code",
   "execution_count": 35,
   "metadata": {},
   "outputs": [
    {
     "name": "stdout",
     "output_type": "stream",
     "text": [
      "2\n",
      "rr 1\n",
      "gg 5\n",
      "rr gg "
     ]
    }
   ],
   "source": [
    "#실전문제3 - 성적이 낮은 순서로 학생 출력하기 \n",
    "n = int(input())\n",
    "array = []\n",
    "\n",
    "for i in range(n):\n",
    "    data = input().split()\n",
    "    array.append((data[0], int(data[1])))\n",
    "\n",
    "list1.sort()\n",
    "#점수가 동일할 시 이름 가나다 순으로 정렬\n",
    "\n",
    "# 책답안 - 키를 이용하여 점수를 기준으로 정렬\n",
    "# array = sorted(list, key=lambda student: studnet[1])\n",
    "\n",
    "for i in array:\n",
    "    print(i[0], end = ' ')"
   ]
  },
  {
   "cell_type": "code",
   "execution_count": 1,
   "metadata": {},
   "outputs": [
    {
     "name": "stdout",
     "output_type": "stream",
     "text": [
      "5 3\n",
      "1 2 5 4 3\n",
      "5 5 6 6 5\n",
      "26\n"
     ]
    }
   ],
   "source": [
    "#실전문제4 - 두 배열의 원소 교체 \n",
    "n, k = map(int, input().split())\n",
    "\n",
    "# a와 b를 리스트로 초기화\n",
    "a = list(map(int, input().split()))\n",
    "b = list(map(int, input().split()))\n",
    "\n",
    "# a는 오름차순, b는 내림차순으로 정렬\n",
    "a.sort()\n",
    "b.sort(reverse=True)\n",
    "\n",
    "for i in range(k):\n",
    "    # a의 원소가 b의 원소보다 작을 때만 교환\n",
    "    if a[i] < b[i]:\n",
    "        a[i], b[i] = b[i], a[i]\n",
    "    else:\n",
    "        # 교환할 필요가 없으면 중단\n",
    "        break\n",
    "\n",
    "print(sum(a))"
   ]
  }
 ],
 "metadata": {
  "kernelspec": {
   "display_name": "Python 3",
   "language": "python",
   "name": "python3"
  },
  "language_info": {
   "codemirror_mode": {
    "name": "ipython",
    "version": 3
   },
   "file_extension": ".py",
   "mimetype": "text/x-python",
   "name": "python",
   "nbconvert_exporter": "python",
   "pygments_lexer": "ipython3",
   "version": "3.8.5"
  }
 },
 "nbformat": 4,
 "nbformat_minor": 4
}
