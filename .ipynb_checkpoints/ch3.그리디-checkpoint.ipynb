{
 "cells": [
  {
   "cell_type": "code",
   "execution_count": 3,
   "metadata": {},
   "outputs": [
    {
     "name": "stdout",
     "output_type": "stream",
     "text": [
      "5 8 3 \n",
      "2 4 5 4 6\n",
      "46\n"
     ]
    }
   ],
   "source": [
    "#실전문제  2 - 큰 수의 법칙\n",
    "n, m, k = map(int, input().split())\n",
    "data = list(map(int, input().split()))\n",
    "\n",
    "data.sort()\n",
    "first = data[n - 1]\n",
    "second = data[n - 2]\n",
    "\n",
    "result = 0\n",
    "\n",
    "while True:\n",
    "    for i in range(k):\n",
    "        if m == 0:\n",
    "            break\n",
    "        result += first\n",
    "        m -= 1\n",
    "    if m == 0:\n",
    "        break\n",
    "    result += second\n",
    "    m -= 1\n",
    "    \n",
    "print(result)"
   ]
  },
  {
   "cell_type": "markdown",
   "metadata": {},
   "source": [
    "###### 실전문제  2 - 큰 수의 법칙\n",
    "# 책 답안 - 반복 수열 길이 사용 \n",
    "# 반복 수열 = 가장 큰 수가 더해지는 횟수 : int( m / (k+1) * k + m % (k+1) )\n",
    "\n",
    "n, m, k = map(int, input().split())\n",
    "data = list(map(int, input().split()))\n",
    "\n",
    "data.sort()\n",
    "first = data[n - 1]\n",
    "second = data[n - 2]\n",
    "\n",
    "count = int(m / (k+1)) * k\n",
    "count += m% (k+1)\n",
    "\n",
    "result = 0\n",
    "result += (count) * first\n",
    "result += (m-count) * second\n",
    "\n",
    "print(result)"
   ]
  },
  {
   "cell_type": "code",
   "execution_count": 7,
   "metadata": {},
   "outputs": [
    {
     "name": "stdout",
     "output_type": "stream",
     "text": [
      "3 3\n",
      "3 1 2\n",
      "4 1 4\n",
      "2 2 2\n",
      "2\n"
     ]
    }
   ],
   "source": [
    "#실전문제 3 - 숫자 카드 게임\n",
    "n, m = map(int, input().split())\n",
    "\n",
    "result = 0\n",
    "\n",
    "for i in range(n):\n",
    "    data = list(map(int, input().split()))\n",
    "    min_value = min(data)\n",
    "    result = max(result, min_value)\n",
    "\n",
    "print(result)"
   ]
  },
  {
   "cell_type": "code",
   "execution_count": 6,
   "metadata": {},
   "outputs": [
    {
     "name": "stdout",
     "output_type": "stream",
     "text": [
      "3 3 \n",
      "3 1 2 \n",
      "4 1 4 \n",
      "2 2 2\n",
      "2\n"
     ]
    }
   ],
   "source": [
    "#실전문제 3 - 숫자 카드 게임\n",
    "# 책 답안 - 이중 for문 사용\n",
    "n, m = map(int, input().split())\n",
    "\n",
    "result = 0\n",
    "\n",
    "for i in range(n):\n",
    "    data = list(map(int, input().split()))\n",
    "    \n",
    "    #현재 줄에서 가장 작은 수 찾기 (범위 외 값 넣어서 초기화)\n",
    "    min_value = 10001\n",
    "    for a in data:\n",
    "        min_value = min(min_value, a)\n",
    "    result = max(result, min_value)\n",
    "    \n",
    "print(result)"
   ]
  },
  {
   "cell_type": "code",
   "execution_count": 5,
   "metadata": {},
   "outputs": [
    {
     "name": "stdout",
     "output_type": "stream",
     "text": [
      "25 3\n",
      "6\n"
     ]
    }
   ],
   "source": [
    "n, k = map(int, input().split())\n",
    "\n",
    "result = 0\n",
    "\n",
    "while True:\n",
    "    if n%k != 0:\n",
    "        n -= 1\n",
    "        result += 1\n",
    "    if n%k == 0:\n",
    "        n = n/k\n",
    "        result += 1\n",
    "    if n == 1:\n",
    "        break\n",
    "    \n",
    "print(result)"
   ]
  },
  {
   "cell_type": "code",
   "execution_count": 3,
   "metadata": {},
   "outputs": [
    {
     "name": "stdout",
     "output_type": "stream",
     "text": [
      "25 3\n",
      "6\n"
     ]
    }
   ],
   "source": [
    "# 책 답안 - 100억 이상 되는 큰 수에도 빠르게 동작하도록 n이 k의 배수가 되돋록 한번에 뺴는 방식 \n",
    "n, k = map(int, input().split())\n",
    "\n",
    "result = 0\n",
    "\n",
    "while True:\n",
    "    # n == k 로 나누어떨어지는 수가 될 때까지 1씩 빼기\n",
    "    target = (n //k) * k\n",
    "    result += (n - target)\n",
    "    n = target\n",
    "    # n이 k보다 작을 때 (더이상 나눌 수 없을 때) 반복문 탈출\n",
    "    if n < k:\n",
    "        break\n",
    "    # k 로 나누기\n",
    "    result += 1\n",
    "    n //= k\n",
    "    \n",
    "# 마지막으로 남은 수에 대하여 1씩 빼기\n",
    "result  += (n-1)\n",
    "print(result)"
   ]
  }
 ],
 "metadata": {
  "kernelspec": {
   "display_name": "Python 3",
   "language": "python",
   "name": "python3"
  },
  "language_info": {
   "codemirror_mode": {
    "name": "ipython",
    "version": 3
   },
   "file_extension": ".py",
   "mimetype": "text/x-python",
   "name": "python",
   "nbconvert_exporter": "python",
   "pygments_lexer": "ipython3",
   "version": "3.8.5"
  }
 },
 "nbformat": 4,
 "nbformat_minor": 4
}
